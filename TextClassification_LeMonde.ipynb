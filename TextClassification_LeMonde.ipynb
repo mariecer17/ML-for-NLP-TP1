{
 "cells": [
  {
   "cell_type": "markdown",
   "metadata": {},
   "source": [
    "## Text classification on LeMonde2003 Dataset\n",
    "\n",
    "In this notebook, we \n",
    "apply classification algorithms to newspaper articles published in 2003 in *Le Monde*. \n",
    "\n",
    "The data are here : https://cloud.teklia.com/index.php/s/isNwnwA7a7AWst6/download/LeMonde2003_9classes.csv.gz\n",
    "\n",
    "Download it into the data directory : \n",
    "\n",
    "```\n",
    "wget https://cloud.teklia.com/index.php/s/isNwnwA7a7AWst6/download/LeMonde2003_9classes.csv.gz\n",
    "```\n",
    "\n",
    "Or you can download the file directly from the URL in pandas with `pd.read_csv(url)`.`\n",
    "\n",
    "These articles concern different subjects but we will consider only articles related to the following subjects : entreprises (ENT), international (INT), arts (ART), société (SOC), France (FRA), sports (SPO), livres (LIV), télévision (TEL) and the font page articles (UNE).\n",
    "\n",
    "\n",
    "> * Load the CSV file `LeMonde2003_9classes.csv.gz` containing the articles using pandas [pd.read_csv](https://pandas.pydata.org/pandas-docs/stable/reference/api/pandas.read_csv.html). How many articles do you have ? \n",
    "> * Plot the frequency histogram of the categories using seaborn [countplot](https://seaborn.pydata.org/tutorial/categorical.html) : `sns.countplot(data=df,y='category')`\n",
    "> * Display the text of some of the article with the corresponding class using pandas [sample](https://pandas.pydata.org/pandas-docs/stable/reference/api/pandas.DataFrame.sample.html)\n",
    "> * Using the [WordCloud library](https://amueller.github.io/word_cloud/index.html), display a word cloud for the most frequent classes. You can remove the stop words using the `stopwords` option, using the list of stop words in French in `data/stop_word_fr.txt` or from the URL https://cloud.teklia.com/index.php/s/3mwZfSre4PmJcdb/download/stop_word_fr.txt\n",
    "\n",
    "wget https://cloud.teklia.com/index.php/s/isNwnwA7a7AWst6/download/LeMonde2003_9classes.csv.gz"
   ]
  },
  {
   "cell_type": "code",
   "execution_count": 12,
   "metadata": {
    "tags": []
   },
   "outputs": [
    {
     "name": "stdout",
     "output_type": "stream",
     "text": [
      "Téléchargement terminé :  LeMonde2003_9classes.csv.gz\n",
      "Nombre d'articles : 30165\n"
     ]
    }
   ],
   "source": [
    "import requests\n",
    "\n",
    "url = \"https://cloud.teklia.com/index.php/s/isNwnwA7a7AWst6/download/LeMonde2003_9classes.csv.gz\"\n",
    "filename = \"LeMonde2003_9classes.csv.gz\"\n",
    "\n",
    "response = requests.get(url)\n",
    "with open(filename, 'wb') as f:\n",
    "    f.write(response.content)\n",
    "\n",
    "print(\"Téléchargement terminé : \", filename)\n",
    "\n",
    "import pandas as pd\n",
    "\n",
    "# load dataframe from CSV file\n",
    "# YOUR CODE HERE\n",
    "\n",
    "\n",
    "import pandas as pd\n",
    "import matplotlib.pyplot as plt\n",
    "\n",
    "df = pd.read_csv(\"LeMonde2003_9classes.csv.gz\")\n",
    "print(\"Nombre d'articles :\", len(df)) \n"
   ]
  },
  {
   "cell_type": "code",
   "execution_count": 13,
   "metadata": {
    "tags": []
   },
   "outputs": [
    {
     "data": {
      "image/png": "[encoded data removed]",
      "text/plain": [
       "<Figure size 1000x600 with 1 Axes>"
      ]
     },
     "metadata": {},
     "output_type": "display_data"
    }
   ],
   "source": [
    "import seaborn as sns\n",
    "%matplotlib inline\n",
    "\n",
    "# Plot the statistics of category\n",
    "# YOUR CODE HERE\n",
    "\n",
    "plt.figure(figsize=(10, 6))\n",
    "sns.countplot(data=df, y='category')\n",
    "plt.title('Fréquence des catégories')\n",
    "plt.xlabel('Nombre d\\'articles')\n",
    "plt.ylabel('Catégorie')\n",
    "plt.show()"
   ]
  },
  {
   "cell_type": "code",
   "execution_count": 14,
   "metadata": {
    "tags": []
   },
   "outputs": [
    {
     "name": "stdout",
     "output_type": "stream",
     "text": [
      "Catégorie : SOC\n",
      "Texte de l'article : un bilan provisoire fait état d'une baisse de 30 de tués sur les routes en novembre par rapport au même mois de l'année 2002 a indiqué jeudi 4 décembre le ministère de l'intérieur selon les données préliminaires entre 1 600 et 1 700 personnes auraient été tuées en moins cette année\n",
      "\n",
      "\n",
      "Catégorie : SOC\n",
      "Texte de l'article : l'assistance publique-hôpitaux de paris ap-hp poursuivie pour homicide involontaire après le suicide d'un patient le 21 janvier 1999 a bénéficié mardi 4 novembre d'une relaxe le jeune homme qui souffrait de troubles psychiatriques s'était jeté du haut d'un escalier de secours de dix étages à l'hôpital saint-antoine dans le 12e arrondissement de paris le tribunal a suivi les réquisitions du parquet qui le 7 octobre avait estimé que les normes de sécurité avaient été respectées par l'établissement\n",
      "\n",
      "\n",
      "Catégorie : ENT\n",
      "Texte de l'article : selon la ministre déléguée à l'industrie nicole fontaine la direction de l'usine stmicroelectronics de rennes ille-et-vilaine a accepté de suspendre durant deux mois la décision d'arrêter cette unité de 600 salariés ce temps devrait permettre d'examiner avec l'expertise nécessaire toutes les solutions alternatives à la fermeture a-t-elle indiqué mardi à ouest-france\n",
      "\n",
      "\n",
      "Catégorie : SPO\n",
      "Texte de l'article : le fc barcelone est un géant du football européen depuis sa création en 1899 il a gagné 16 fois le championnat national 24 fois la coupe d'espagne et 8 coupes d'europe comme tous les supporteurs du monde ses socios savent qu'un club aussi prestigieux soit-il ne peut pas gagner tous les ans une année blanche est tolérée mais quatre de suite non c'est pourtant la situation dans laquelle se trouve aujourd'hui le barça dont le dernier trophée un titre de champion remonte à 1999 et dont la saison la plus récente s'est terminée sur un échec historique avec une 7e place en liga la crise permanente qui secoue le fc barcelone depuis quatre ans donne une idée de la tâche qui attend ronaldinho arrivé dans la capitale catalane samedi 19 juillet pour y signer un contrat de cinq ans à raison de 4,5 millions d'euros de salaire annuel le footballeur brésilien de 23 ans a été accueilli à la manière d'un messie chacun de ses faits et gestes étant raconté décortiqué et analysé par des nuées de reporters locaux ronaldinho arrivant à l'aéroport ronaldinho se rendant au siège du club ronaldinho dormant dans tel palace ronaldinho passant avec succès sa visite médicale etc rien n'a échappé aux barcelonais amateurs ou non de ballon rond une bonne opération ronaldinho a aussi donné ses premières interviewes en exclusivité bien sûr à la chaîne et au site internet du club dans un épanchement de béatitude l'ancien joueur du paris-saint-germain y livre ses premières confidences ici au barça il y a tout ce qu'un joueur peut désirer ou rechercher il s'agit d'un grand club où sont passés beaucoup de joueurs qui font partie de l'histoire du football je suis tellement heureux d'être ici et d'être un élement de cette équipe dit-il sans oublier de souligner combien est belle la ville dans laquelle il est arrivé j'ai toujours été un fan de frank rijkaard quand il était joueur ajoute-t-il à propos de l'ancien défenseur néerlandais promu au poste d'entraîneur.le fc barcelone a dû débourser 30 millions d'euros pour enrôler ronaldinho cette somme peut paraître déraisonnable pour un club dont le déficit est estimé entre 80 et 100 millions d'euros mais tel était le prix à payer pour devancer manchester united qui était dans la course jusque dans la dernière ligne droite tel était aussi le montant à aligner pour montrer au real madrid qu'il n'a pas le monopole en matière d'engagement de stars le transfert de ronaldinho est certes très nettement inférieur à ceux réalisés par le real ces trois dernières années zinédine zidane 75 millions d'euros figo 61,74 millions d'euros ronaldo en 2002 55 millions d'euros mais il est supérieur à celui de david beckham arrivé à madrid contre 25 millions d'euros il y a un mois le transfert du footballeur britannique initialement pressenti en catalogne avait été vécu comme une avanie par le barça on a montré qu'on existait qu'on faisait partie des grands clubs qui gèrent des gros coups on n'a pas fait d'annonces ridicules et on a fait croître notre crédibilité s'est félicité le directeur sportif du club sandro rosell qui a mené les négociations avec le psg à la demande du nouveau président du fc barcelone l'avocat joan laporta pour qui l'arrivée de ronaldinho est considérée comme un premier succès le barça est un faiseur d'étoiles il le redeviendra notre objectif n'est pas de constituer un groupe de célébrités a déclaré ce dernier pour le psg le départ du prodige brésilien est aussi une bonne opération retenir le joueur poussé au départ par son frère et agent roberto assis était impossible faire monter les enchères à 30 millions d'euros n'était pas gagné d'avance dans un marché des transferts atteint de morosité le psg ne touchera cependant qu'un tiers environ du total car les droits d'image du joueur 19,1 millions d'euros propriété de la société de marketing sportfive faisaient partie de la transaction\n",
      "\n",
      "\n",
      "Catégorie : SPO\n",
      "Texte de l'article : l'équipe argentine de boca juniors a gagné la finale de la copa libertadores en s'imposant 3-1 à santos brésil mercredi 2 juillet boca juniors avait remporté le match aller 5-1 le 25 juin le club de buenos aires s'adjuge cette coupe pour la 5e fois 1977 1978 2000 2001 2003\n",
      "\n",
      "\n"
     ]
    }
   ],
   "source": [
    "# Print examples of the articles\n",
    "pd.set_option('display.max_colwidth', None)\n",
    "# YOUR CODE HERE\n",
    "sample_articles = df.sample(5)\n",
    "for index, row in sample_articles.iterrows():\n",
    "    print(\"Catégorie :\", row['category'])\n",
    "    print(\"Texte de l'article :\", row['text'])\n",
    "    print(\"\\n\")\n"
   ]
  },
  {
   "cell_type": "code",
   "execution_count": 18,
   "metadata": {
    "tags": []
   },
   "outputs": [
    {
     "ename": "SyntaxError",
     "evalue": "invalid syntax (1688680215.py, line 1)",
     "output_type": "error",
     "traceback": [
      "\u001b[1;36m  Cell \u001b[1;32mIn[18], line 1\u001b[1;36m\u001b[0m\n\u001b[1;33m    pip install wordcloud\u001b[0m\n\u001b[1;37m        ^\u001b[0m\n\u001b[1;31mSyntaxError\u001b[0m\u001b[1;31m:\u001b[0m invalid syntax\n"
     ]
    }
   ],
   "source": [
    "\n",
    "from wordcloud import WordCloud\n",
    "# Display one wordcloud for each of the most frequent classes\n",
    "\n",
    "from wordcloud import WordCloud\n",
    "STOPWORDS = [x.strip() for x in open('data/stop_word_fr.txt').readlines()]\n",
    "import matplotlib.pyplot as plt\n",
    "\n",
    "stop_words_file = \"https://cloud.teklia.com/index.php/s/3mwZfSre4PmJcdb/download/stop_word_fr.txt\"\n",
    "stop_words = [x.strip() for x in requests.get(stop_words_file).text.split('\\n')]\n",
    "\n",
    "# plot a word cloud for each category\n",
    "for cat in ['ENT', 'INT',  'ART', 'SOC', 'FRA']:\n",
    "    text_cat = \" \".join(df[df['category'] == cat]['text'])\n",
    "    \n",
    "    # Créer un nuage de mots pour cette catégorie\n",
    "    wordcloud = WordCloud(width=800, height=400, background_color='white', stopwords=stop_words).generate(text_cat)\n",
    "    \n",
    "    # Afficher le nuage de mots\n",
    "    plt.figure(figsize=(10, 6))\n",
    "    plt.imshow(wordcloud, interpolation='bilinear')\n",
    "    plt.title(\"Nuage de mots pour la catégorie \" + cat)\n",
    "    plt.axis('off')\n",
    "    plt.show()\n",
    "\n",
    "\n",
    "\n"
   ]
  },
  {
   "cell_type": "markdown",
   "metadata": {},
   "source": [
    "## Bag-of-word representation\n",
    "\n",
    "In order to apply machine learning algorithms to text, documents must be transformed into vectors. The most simple and standard way to transform a document into a vector is the *bag-of-word* encoding.\n",
    "\n",
    "The idea is very simple : \n",
    "\n",
    "1. define the set of all the possible words that can appear in a document; denote its size by `max_features`.\n",
    "2. for each document,  encode it with a vector of size `max_features`, with the value of the ith component of the vector equal to the number of time the ith word appears in the document.\n",
    "\n",
    "See [the wikipedia article on Bag-of-word](https://en.wikipedia.org/wiki/Bag-of-words_model) for an example.\n",
    "\n",
    "Scikit-learn proposes different methods to encode text into vectors : [CountVectorizer](http://scikit-learn.org/stable/modules/generated/sklearn.feature_extraction.text.CountVectorizer.html) and [TfidfTransformer](http://scikit-learn.org/stable/modules/generated/sklearn.feature_extraction.text.TfidfTransformer.html).\n",
    "\n",
    "The encoder must first be trained on the train set and applied to the different sets, for example with the 200  words : \n",
    "\n",
    "\tfrom sklearn.feature_extraction.text import CountVectorizer\n",
    "\tvectorizer = CountVectorizer(max_features=200)\n",
    "    vectorizer.fit(X_train)\n",
    "    X_train_counts = vectorizer.transform(X_train)\n",
    "    X_test_counts = vectorizer.transform(X_test)\n",
    "        \n",
    "**Question**:\n",
    "\n",
    "> * Split the dataset LeMonde2003 into train set (80%), dev set (10%)  and test set (10%) using scikit-learn [train_test_split](http://scikit-learn.org/stable/modules/generated/sklearn.model_selection.train_test_split.html)\n",
    "> * For each set, transform the text of the articles into vectors using the `CountVectorizer`, considering the 1000 most frequent words. \n",
    "> * Train a naive bayes classifier on the data. \n",
    "> * Evaluate the classification accuracy on the train, dev and test sets using the [score](https://scikit-learn.org/stable/modules/generated/sklearn.naive_bayes.MultinomialNB.html#sklearn.naive_bayes.MultinomialNB.score) method. \n",
    "\n",
    "> ***Important*** : the test set must not be used during the training phase, and learning the vector representation of the words is part of the training. The dev set should be an evaluation of the test set.\n",
    "\n"
   ]
  },
  {
   "cell_type": "code",
   "execution_count": 19,
   "metadata": {
    "tags": []
   },
   "outputs": [],
   "source": [
    "from sklearn.model_selection import train_test_split\n",
    "# Split the dataset, create X (features) and y (target), print the size\n",
    "# YOUR CODE HERE\n",
    "train_data, test_data = train_test_split(df, test_size=0.2, random_state=42)\n",
    "dev_data, test_data = train_test_split(test_data, test_size=0.5, random_state=42)\n"
   ]
  },
  {
   "cell_type": "code",
   "execution_count": 27,
   "metadata": {
    "tags": []
   },
   "outputs": [],
   "source": [
    "from sklearn.feature_extraction.text import CountVectorizer\n",
    "# Create document vectors\n",
    "# YOUR CODE HERE\n",
    "\n",
    "vectorizer = CountVectorizer(max_features=1000)\n",
    "X_train_vec = vectorizer.fit_transform(train_data['text'])\n",
    "X_dev_vec = vectorizer.transform(dev_data['text'])\n",
    "X_test_vec = vectorizer.transform(test_data['text'])\n",
    "y_train = train_data['category']\n",
    "y_dev = dev_data['category']\n",
    "y_test = test_data['category']\n",
    "\n",
    "\n"
   ]
  },
  {
   "cell_type": "code",
   "execution_count": 29,
   "metadata": {
    "tags": []
   },
   "outputs": [
    {
     "name": "stdout",
     "output_type": "stream",
     "text": [
      "Précision sur l'ensemble d'entraînement: 0.7285347256754516\n",
      "Précision sur l'ensemble de développement: 0.7141909814323607\n",
      "Précision sur l'ensemble de test: 0.7305270135896585\n"
     ]
    }
   ],
   "source": [
    "from sklearn.naive_bayes import MultinomialNB\n",
    "# train a Naive Bayes classifier\n",
    "classifier = MultinomialNB()\n",
    "classifier.fit(X_train, y_train)\n",
    "y_train_pred = classifier.predict(X_train_vec)\n",
    "y_dev_pred = classifier.predict(X_dev_vec)\n",
    "y_test_pred = classifier.predict(X_test_vec)\n",
    "\n",
    "from sklearn.metrics import accuracy_score\n",
    "\n",
    "train_accuracy = accuracy_score(y_train, y_train_pred)\n",
    "dev_accuracy = accuracy_score(y_dev, y_dev_pred)\n",
    "test_accuracy = accuracy_score(y_test, y_test_pred)\n",
    "\n",
    "print(\"Précision sur l'ensemble d'entraînement:\", train_accuracy)\n",
    "print(\"Précision sur l'ensemble de développement:\", dev_accuracy)\n",
    "print(\"Précision sur l'ensemble de test:\", test_accuracy)\n"
   ]
  },
  {
   "cell_type": "markdown",
   "metadata": {},
   "source": [
    "## TF-IDF representation\n",
    "\n",
    "The `CountVectorizer` encodes the text using the raw frequencies of the words. However, words that are very frequent and appear in all the documents will have a strong weight whereas they are not discriminative. The *Term-Frequency Inverse-Document-Frequency* weighting scheme take into accound the number of documents in which a given word occurs. A word that appear in many document will have less weight. See [the wikipedia page](https://en.wikipedia.org/wiki/Tf%E2%80%93idf) for more details.\n",
    "\n",
    "With scikit-learn, the `TfidfTransformer` is applied after the `CountVectorizer` :\n",
    "\n",
    "\tfrom sklearn.feature_extraction.text import TfidfTransformer\n",
    "\ttf_transformer = TfidfTransformer().fit(X_train_counts)\n",
    " \tX_train_tf = tf_transformer.transform(X_train_counts)\n",
    "\tX_test_tf = tf_transformer.transform(X_test_counts)\n",
    "\t\n",
    "**Question**:\n",
    "\n",
    "> * Use the TF-IDF representation to train a Multinomial Naive Bayes classifier. Report your best test error rate and the error rates for all the configurations tested."
   ]
  },
  {
   "cell_type": "code",
   "execution_count": 34,
   "metadata": {
    "tags": []
   },
   "outputs": [
    {
     "ename": "NameError",
     "evalue": "name 'TfidfVectorizer' is not defined",
     "output_type": "error",
     "traceback": [
      "\u001b[1;31m---------------------------------------------------------------------------\u001b[0m",
      "\u001b[1;31mNameError\u001b[0m                                 Traceback (most recent call last)",
      "Cell \u001b[1;32mIn[34], line 8\u001b[0m\n\u001b[0;32m      5\u001b[0m dev_data, test_data \u001b[38;5;241m=\u001b[39m train_test_split(test_data, test_size\u001b[38;5;241m=\u001b[39m\u001b[38;5;241m0.5\u001b[39m, random_state\u001b[38;5;241m=\u001b[39m\u001b[38;5;241m42\u001b[39m)\n\u001b[0;32m      7\u001b[0m \u001b[38;5;66;03m# Initialiser TfidfVectorizer pour convertir le texte en vecteurs TF-IDF\u001b[39;00m\n\u001b[1;32m----> 8\u001b[0m vectorizer \u001b[38;5;241m=\u001b[39m TfidfVectorizer(max_features\u001b[38;5;241m=\u001b[39m\u001b[38;5;241m1000\u001b[39m)\n\u001b[0;32m     10\u001b[0m \u001b[38;5;66;03m# Transformer le texte des articles en vecteurs TF-IDF pour chaque ensemble\u001b[39;00m\n\u001b[0;32m     11\u001b[0m X_train \u001b[38;5;241m=\u001b[39m vectorizer\u001b[38;5;241m.\u001b[39mfit_transform(train_data[\u001b[38;5;124m'\u001b[39m\u001b[38;5;124mtext\u001b[39m\u001b[38;5;124m'\u001b[39m])\n",
      "\u001b[1;31mNameError\u001b[0m: name 'TfidfVectorizer' is not defined"
     ]
    }
   ],
   "source": [
    "from sklearn.feature_extraction.text import TfidfTransformer\n",
    "\n",
    "\n",
    "train_data, test_data = train_test_split(df, test_size=0.2, random_state=42)\n",
    "dev_data, test_data = train_test_split(test_data, test_size=0.5, random_state=42)\n",
    "\n",
    "\n",
    "vectorizer = TfidfVectorizer(max_features=1000)\n",
    "\n",
    "X_train = vectorizer.fit_transform(train_data['text'])\n",
    "X_dev = vectorizer.transform(dev_data['text'])\n",
    "X_test = vectorizer.transform(test_data['text'])\n",
    "\n",
    "y_train = train_data['category']\n",
    "y_dev = dev_data['category']\n",
    "y_test = test_data['category']\n",
    "\n",
    "classifier = MultinomialNB()\n",
    "\n",
    "classifier.fit(X_train, y_train)\n",
    "\n",
    "y_test_pred = classifier.predict(X_test)\n",
    "\n",
    "test_accuracy = accuracy_score(y_test, y_test_pred)\n",
    "\n",
    "# Afficher la précision de classification\n",
    "print(\"Précision sur l'ensemble de test avec TF-IDF:\", test_accuracy)"
   ]
  },
  {
   "cell_type": "markdown",
   "metadata": {},
   "source": [
    "## Error analysis\n",
    "\n",
    "The classification error rate give an evaluation of the performance for all the classes. But since the classes are not equally distributed, they may not be equally well modelized. In order to get a better idea of the performance of the classifier, detailed metrics must be used : \n",
    "\n",
    "* [metrics.classification_report](http://scikit-learn.org/stable/modules/generated/sklearn.metrics.classification_report.html) provides a detailed analysis per class : the precision (amongst all the example classified as class X, how many are really from the classX) and the recall (amongst all the example that are from the class X, how many are classified as class X) and the F-Score which is as a weighted harmonic mean of the precision and recall.\n",
    "* [metrics.confusion_matrix](http://scikit-learn.org/stable/modules/generated/sklearn.metrics.confusion_matrix.html) which give the confusions between the classes. It can be displayed in color with [plot_confusion_matrix](https://scikit-learn.org/stable/modules/generated/sklearn.metrics.plot_confusion_matrix.html#sklearn.metrics.plot_confusion_matrix).\n",
    "\n",
    "**Question**:\n",
    "\n",
    "> * Report the `classification_report` for your  classifier. Which classes have the best scores ? Why ?\n",
    "> * Report the `confusion_matrix` for your  classifier. Which classes are the most confused ? Why ?\n"
   ]
  },
  {
   "cell_type": "code",
   "execution_count": 36,
   "metadata": {
    "tags": []
   },
   "outputs": [
    {
     "name": "stdout",
     "output_type": "stream",
     "text": [
      "Classification Report:\n",
      "               precision    recall  f1-score   support\n",
      "\n",
      "         ART       0.79      0.83      0.81       466\n",
      "         ENT       0.77      0.84      0.80       598\n",
      "         FRA       0.63      0.69      0.66       357\n",
      "         INT       0.84      0.75      0.79       750\n",
      "         SOC       0.60      0.70      0.65       364\n",
      "         SPO       0.89      0.82      0.85       278\n",
      "         UNE       0.17      0.11      0.14       204\n",
      "\n",
      "    accuracy                           0.73      3017\n",
      "   macro avg       0.67      0.68      0.67      3017\n",
      "weighted avg       0.72      0.73      0.73      3017\n",
      "\n"
     ]
    },
    {
     "ename": "NameError",
     "evalue": "name 'confusion_matrix' is not defined",
     "output_type": "error",
     "traceback": [
      "\u001b[1;31m---------------------------------------------------------------------------\u001b[0m",
      "\u001b[1;31mNameError\u001b[0m                                 Traceback (most recent call last)",
      "Cell \u001b[1;32mIn[36], line 8\u001b[0m\n\u001b[0;32m      4\u001b[0m report \u001b[38;5;241m=\u001b[39m classification_report(y_test, y_test_pred)\n\u001b[0;32m      6\u001b[0m \u001b[38;5;28mprint\u001b[39m(\u001b[38;5;124m\"\u001b[39m\u001b[38;5;124mClassification Report:\u001b[39m\u001b[38;5;130;01m\\n\u001b[39;00m\u001b[38;5;124m\"\u001b[39m, report)\n\u001b[1;32m----> 8\u001b[0m cm \u001b[38;5;241m=\u001b[39m confusion_matrix(y_test, y_test_pred)\n\u001b[0;32m     10\u001b[0m plt\u001b[38;5;241m.\u001b[39mfigure(figsize\u001b[38;5;241m=\u001b[39m(\u001b[38;5;241m10\u001b[39m, \u001b[38;5;241m8\u001b[39m))\n\u001b[0;32m     11\u001b[0m sns\u001b[38;5;241m.\u001b[39mheatmap(cm, annot\u001b[38;5;241m=\u001b[39m\u001b[38;5;28;01mTrue\u001b[39;00m, cmap\u001b[38;5;241m=\u001b[39m\u001b[38;5;124m'\u001b[39m\u001b[38;5;124mBlues\u001b[39m\u001b[38;5;124m'\u001b[39m, fmt\u001b[38;5;241m=\u001b[39m\u001b[38;5;124m'\u001b[39m\u001b[38;5;124md\u001b[39m\u001b[38;5;124m'\u001b[39m, xticklabels\u001b[38;5;241m=\u001b[39mmlb\u001b[38;5;241m.\u001b[39mclasses_, yticklabels\u001b[38;5;241m=\u001b[39mmlb\u001b[38;5;241m.\u001b[39mclasses_)\n",
      "\u001b[1;31mNameError\u001b[0m: name 'confusion_matrix' is not defined"
     ]
    }
   ],
   "source": [
    "from sklearn.metrics import classification_report, ConfusionMatrixDisplay\n",
    "\n",
    "\n",
    "report = classification_report(y_test, y_test_pred)\n",
    "\n",
    "print(\"Classification Report:\\n\", report)\n",
    "\n",
    "cm = confusion_matrix(y_test, y_test_pred)\n",
    "\n",
    "plt.figure(figsize=(10, 8))\n",
    "sns.heatmap(cm, annot=True, cmap='Blues', fmt='d', xticklabels=mlb.classes_, yticklabels=mlb.classes_)\n",
    "plt.xlabel('Predicted labels')\n",
    "plt.ylabel('True labels')\n",
    "plt.title('Confusion Matrix')\n",
    "plt.show()\n"
   ]
  },
  {
   "cell_type": "markdown",
   "metadata": {},
   "source": [
    "## Data re-configuration\n",
    "After the error analysis, we came to the conclusion that one of the class can not be distinguised from the others. There is no use trying to solve an impossible problem.\n",
    "\n",
    "**Questions**:\n",
    "\n",
    "> * Remove the class `UNE` from the original dataset and merge the semantically close classes 'FRANCE' and 'SOCIETE'\n",
    "> * Plot the class statitics with seaborn\n",
    "> * Create new splits\n",
    "> * Retrain a NaiveBayes classifier using [TfidfVectorizer](https://scikit-learn.org/stable/modules/generated/sklearn.feature_extraction.text.TfidfVectorizer.html) with the 1000 most frequent words."
   ]
  },
  {
   "cell_type": "code",
   "execution_count": 37,
   "metadata": {
    "tags": []
   },
   "outputs": [
    {
     "name": "stderr",
     "output_type": "stream",
     "text": [
      "C:\\Users\\marie\\AppData\\Local\\Temp\\ipykernel_12400\\3401307237.py:11: SettingWithCopyWarning: \n",
      "A value is trying to be set on a copy of a slice from a DataFrame.\n",
      "Try using .loc[row_indexer,col_indexer] = value instead\n",
      "\n",
      "See the caveats in the documentation: https://pandas.pydata.org/pandas-docs/stable/user_guide/indexing.html#returning-a-view-versus-a-copy\n",
      "  df_filtered['category'] = df_filtered['category'].replace({'FRANCE': 'SOCIETE'})\n"
     ]
    },
    {
     "data": {
      "image/png": "[encoded data removed]",
      "text/plain": [
       "<Figure size 1000x600 with 1 Axes>"
      ]
     },
     "metadata": {},
     "output_type": "display_data"
    },
    {
     "name": "stdout",
     "output_type": "stream",
     "text": [
      "Train set size: 22488\n",
      "Dev set size: 2811\n",
      "Test set size: 2811\n",
      "Accuracy on train set: 0.7994041266453219\n",
      "Accuracy on dev set: 0.7890430451796514\n",
      "Accuracy on test set: 0.7933119886161508\n"
     ]
    },
    {
     "ename": "NameError",
     "evalue": "name 'confusion_matrix' is not defined",
     "output_type": "error",
     "traceback": [
      "\u001b[1;31m---------------------------------------------------------------------------\u001b[0m",
      "\u001b[1;31mNameError\u001b[0m                                 Traceback (most recent call last)",
      "Cell \u001b[1;32mIn[37], line 56\u001b[0m\n\u001b[0;32m     54\u001b[0m \u001b[38;5;66;03m# Print confusion matrix\u001b[39;00m\n\u001b[0;32m     55\u001b[0m y_test_pred \u001b[38;5;241m=\u001b[39m classifier\u001b[38;5;241m.\u001b[39mpredict(X_test)\n\u001b[1;32m---> 56\u001b[0m conf_matrix \u001b[38;5;241m=\u001b[39m confusion_matrix(y_test, y_test_pred)\n\u001b[0;32m     57\u001b[0m \u001b[38;5;28mprint\u001b[39m(\u001b[38;5;124m\"\u001b[39m\u001b[38;5;124mConfusion matrix:\u001b[39m\u001b[38;5;124m\"\u001b[39m)\n\u001b[0;32m     58\u001b[0m \u001b[38;5;28mprint\u001b[39m(conf_matrix)\n",
      "\u001b[1;31mNameError\u001b[0m: name 'confusion_matrix' is not defined"
     ]
    }
   ],
   "source": [
    "from sklearn.feature_extraction.text import TfidfVectorizer\n",
    "# YOUR CODE HERE\n",
    "\n",
    "# Load the original dataset\n",
    "df = pd.read_csv(\"LeMonde2003_9classes.csv.gz\")\n",
    "\n",
    "# Filter out the 'UNE' class\n",
    "df_filtered = df[df['category'] != 'UNE']\n",
    "\n",
    "# Merge 'FRANCE' and 'SOCIETE' classes\n",
    "df_filtered['category'] = df_filtered['category'].replace({'FRANCE': 'SOCIETE'})\n",
    "\n",
    "# Plot the statistics of classes\n",
    "plt.figure(figsize=(10, 6))\n",
    "sns.countplot(data=df_filtered, x='category')\n",
    "plt.title('Class Statistics after Filtering')\n",
    "plt.xlabel('Category')\n",
    "plt.ylabel('Count')\n",
    "plt.xticks(rotation=45)\n",
    "plt.show()\n",
    "\n",
    "# Make the splits and print the sizes for checking\n",
    "train_data, test_data = train_test_split(df_filtered, test_size=0.2, random_state=42)\n",
    "dev_data, test_data = train_test_split(test_data, test_size=0.5, random_state=42)\n",
    "\n",
    "print(\"Train set size:\", len(train_data))\n",
    "print(\"Dev set size:\", len(dev_data))\n",
    "print(\"Test set size:\", len(test_data))\n",
    "\n",
    "# Apply TfidfVectorizer\n",
    "vectorizer = TfidfVectorizer(max_features=1000)\n",
    "\n",
    "X_train = vectorizer.fit_transform(train_data['text'])\n",
    "X_dev = vectorizer.transform(dev_data['text'])\n",
    "X_test = vectorizer.transform(test_data['text'])\n",
    "\n",
    "y_train = train_data['category']\n",
    "y_dev = dev_data['category']\n",
    "y_test = test_data['category']\n",
    "\n",
    "# Train MultinomialNB\n",
    "classifier = MultinomialNB()\n",
    "classifier.fit(X_train, y_train)\n",
    "\n",
    "# Print accuracy\n",
    "train_accuracy = classifier.score(X_train, y_train)\n",
    "dev_accuracy = classifier.score(X_dev, y_dev)\n",
    "test_accuracy = classifier.score(X_test, y_test)\n",
    "\n",
    "print(\"Accuracy on train set:\", train_accuracy)\n",
    "print(\"Accuracy on dev set:\", dev_accuracy)\n",
    "print(\"Accuracy on test set:\", test_accuracy)\n",
    "\n",
    "# Print confusion matrix\n",
    "y_test_pred = classifier.predict(X_test)\n",
    "conf_matrix = confusion_matrix(y_test, y_test_pred)\n",
    "print(\"Confusion matrix:\")\n",
    "print(conf_matrix)"
   ]
  },
  {
   "cell_type": "markdown",
   "metadata": {},
   "source": [
    "## What about the LLMs?\n",
    "\n",
    "**You must write the answer to this question in a notebook hosted in your github account and give access to your supervisor.**\n",
    "\n",
    "LLMs are reputed to have revolutionised automatic language processing. Since the introduction of BERT-type models, all language processing applications have been based on LLMs, of varying degrees of sophistication and size. These models are trained on multiple tasks and are therefore capable of performing new tasks without learning, simply from a prompt. This is known as \"zero-shot learning\" because there is no learning phase as such. We are going to test these models on our classification task.\n",
    "\n",
    "Huggingface is a Franco-American company that develops tools for building applications based on Deep Learning. In particular, it hosts the huggingface.co portal, which contains numerous Deep Learning models. These models can be used very easily thanks to the [Transformer] library (https://huggingface.co/docs/transformers/quicktour) developed by HuggingFace.\n",
    "\n",
    "Using a transform model in zero-shot learning with HuggingFace is very simple: [see documentation](https://huggingface.co/tasks/zero-shot-classification)\n",
    "\n",
    "However, you need to choose a suitable model from the list of models compatible with Zero-Shot classification. HuggingFace offers [numerous models](https://huggingface.co/models?pipeline_tag=zero-shot-classification). \n",
    "\n",
    "The classes proposed to the model must also provide sufficient semantic information for the model to understand them.\n",
    "\n",
    "**Question**:\n",
    "\n",
    "* Write a code to classify an example of text from an article in Le Monde using a model transformed using zero-sot learning with the HuggingFace library.\n",
    "* choose a model and explain your choice\n",
    "* choose a formulation for the classes to be predicted\n",
    "* show that the model predicts a class for the text of the article (correct or incorrect, analyse the results)\n",
    "* evaluate the performance of your model on 100 articles (a test set).\n",
    "* note model sizes, processing times and classification results\n",
    "\n",
    "\n",
    "Notes :\n",
    "* make sure that you use the correct Tokenizer when using a model \n",
    "* start testing with a small number of articles and the first 100's of characters for faster experiments."
   ]
  },
  {
   "cell_type": "code",
   "execution_count": null,
   "metadata": {
    "tags": []
   },
   "outputs": [
    {
     "data": {
      "application/vnd.jupyter.widget-view+json": {
       "model_id": "f789d54cf1ac4d90b0ddb74b47faa2c7",
       "version_major": 2,
       "version_minor": 0
      },
      "text/plain": [
       "Downloading config.json:   0%|          | 0.00/1.21k [00:00<?, ?B/s]"
      ]
     },
     "metadata": {},
     "output_type": "display_data"
    },
    {
     "name": "stderr",
     "output_type": "stream",
     "text": [
      "D:\\Anaconda\\Lib\\site-packages\\huggingface_hub\\file_download.py:133: UserWarning: `huggingface_hub` cache-system uses symlinks by default to efficiently store duplicated files but your machine does not support them in C:\\Users\\marie\\.cache\\huggingface\\hub. Caching files will still work but in a degraded version that might require more space on your disk. This warning can be disabled by setting the `HF_HUB_DISABLE_SYMLINKS_WARNING` environment variable. For more details, see https://huggingface.co/docs/huggingface_hub/how-to-cache#limitations.\n",
      "To support symlinks on Windows, you either need to activate Developer Mode or to run Python as an administrator. In order to see activate developer mode, see this article: https://docs.microsoft.com/en-us/windows/apps/get-started/enable-your-device-for-development\n",
      "  warnings.warn(message)\n"
     ]
    },
    {
     "data": {
      "application/vnd.jupyter.widget-view+json": {
       "model_id": "2d3422ec50eb4157992bb9ca8285fc33",
       "version_major": 2,
       "version_minor": 0
      },
      "text/plain": [
       "Downloading model.safetensors:   0%|          | 0.00/892M [00:00<?, ?B/s]"
      ]
     },
     "metadata": {},
     "output_type": "display_data"
    }
   ],
   "source": [
    "from transformers import pipeline\n",
    "\n",
    "\n",
    "model_name = \"t5-base\"\n",
    "classifier = pipeline(\"zero-shot-classification\", model=model_name)\n",
    "\n",
    "classes = [\"politics\", \"economics\", \"sports\", \"culture\", \"technology\"]\n",
    "\n",
    "article_text = \"le fc barcelone est un géant du football européen depuis sa création en 1899 il a gagné 16 fois le championnat national 24 fois la coupe d'espagne et 8 coupes d'europe comme tous les supporteurs du monde ses socios savent qu'un club aussi prestigieux soit-il ne peut pas gagner tous les ans une année blanche est tolérée mais quatre de suite non c'est pourtant la situation dans laquelle se trouve aujourd'hui le barça dont le dernier trophée un titre de champion remonte à 1999 et dont la saison la plus récente s'est terminée sur un échec historique avec une 7e place en liga la crise permanente qui secoue le fc barcelone depuis quatre ans donne une idée de la tâche qui attend ronaldinho arrivé dans la capitale catalane samedi 19 juillet pour y signer un contrat de cinq ans à raison de 4,5 millions d'euros de salaire annuel le footballeur brésilien de 23 ans a été accueilli à la manière d'un messie chacun de ses faits et gestes étant raconté décortiqué et analysé par des nuées de reporters locaux ronaldinho arrivant à l'aéroport ronaldinho se rendant au siège du club ronaldinho dormant dans tel palace ronaldinho passant avec succès sa visite médicale etc rien n'a échappé aux barcelonais amateurs ou non de ballon rond une bonne opération ronaldinho a aussi donné ses premières interviewes en exclusivité bien sûr à la chaîne et au site internet du club dans un épanchement de béatitude l'ancien joueur du paris-saint-germain y livre ses premières confidences ici au barça il y a tout ce qu'un joueur peut désirer ou rechercher il s'agit d'un grand club où sont passés beaucoup de joueurs qui\" \n",
    "\n",
    "result = classifier(article_text, classes)\n",
    "\n",
    "print(\"Predicted Class:\", result['labels'][0])\n",
    "print(\"Confidence Scores:\", result['scores'][0])\n"
   ]
  }
 ],
 "metadata": {
  "kernelspec": {
   "display_name": "Python 3 (ipykernel)",
   "language": "python",
   "name": "python3"
  },
  "language_info": {
   "codemirror_mode": {
    "name": "ipython",
    "version": 3
   },
   "file_extension": ".py",
   "mimetype": "text/x-python",
   "name": "python",
   "nbconvert_exporter": "python",
   "pygments_lexer": "ipython3",
   "version": "3.11.5"
  }
 },
 "nbformat": 4,
 "nbformat_minor": 4
}
